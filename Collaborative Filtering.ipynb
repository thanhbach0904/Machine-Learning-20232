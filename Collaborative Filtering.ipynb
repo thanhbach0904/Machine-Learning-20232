{
 "cells": [
  {
   "cell_type": "code",
   "execution_count": 1,
   "metadata": {},
   "outputs": [],
   "source": [
    "import pandas as pd\n",
    "import numpy as np\n",
    "utility_matrix = pd.read_csv(\"50%_utility_matrix.csv\")\n",
    "feature_matrix = pd.read_csv(\"feature_matrix.csv\")"
   ]
  },
  {
   "cell_type": "code",
   "execution_count": 24,
   "metadata": {},
   "outputs": [
    {
     "name": "stdout",
     "output_type": "stream",
     "text": [
      "(array([[0.],\n",
      "       [0.],\n",
      "       [0.],\n",
      "       ...,\n",
      "       [0.],\n",
      "       [0.],\n",
      "       [0.]]), 20, 31845)\n"
     ]
    }
   ],
   "source": [
    "def getRatingVectorOfNthUser(n:int):\n",
    "    #get the rating vector of n-th user and the min and max anime_id\n",
    "    column_n = str(n)\n",
    "    rating = utility_matrix[[column_n]].values\n",
    "    anime_id = utility_matrix[utility_matrix[column_n]!=0][[\"anime_id\"]].values\n",
    "    #normalize the rating value\n",
    "    return rating,anime_id[0][0],anime_id[-1][0]\n",
    "\n",
    "print(getRatingVectorOfNthUser(1))"
   ]
  },
  {
   "cell_type": "code",
   "execution_count": 25,
   "metadata": {},
   "outputs": [
    {
     "name": "stdout",
     "output_type": "stream",
     "text": [
      "0.216788524485329\n"
     ]
    }
   ],
   "source": [
    "def similarity(u1:int,u2:int) -> float:\n",
    "    rating_u1,min_u1,max_u1 = getRatingVectorOfNthUser(u1)\n",
    "    rating_u2,min_u2,max_u2 = getRatingVectorOfNthUser(u2)\n",
    "    upper,lower = min(min_u1,min_u2),max(max_u1,max_u2)\n",
    "    vector_u1 = utility_matrix[(utility_matrix['anime_id']>= upper) & (utility_matrix['anime_id'] <= lower)][str(u1)].values\n",
    "    vector_u2 = utility_matrix[(utility_matrix['anime_id']>= upper) & (utility_matrix['anime_id'] <= lower)][str(u2)].values\n",
    "    return ((vector_u1.T).dot(vector_u2))/((np.linalg.norm(vector_u1))*np.linalg.norm(vector_u2))\n",
    "\n",
    "print(similarity(1,10))"
   ]
  }
 ],
 "metadata": {
  "kernelspec": {
   "display_name": "base",
   "language": "python",
   "name": "python3"
  },
  "language_info": {
   "codemirror_mode": {
    "name": "ipython",
    "version": 3
   },
   "file_extension": ".py",
   "mimetype": "text/x-python",
   "name": "python",
   "nbconvert_exporter": "python",
   "pygments_lexer": "ipython3",
   "version": "3.11.5"
  }
 },
 "nbformat": 4,
 "nbformat_minor": 2
}
