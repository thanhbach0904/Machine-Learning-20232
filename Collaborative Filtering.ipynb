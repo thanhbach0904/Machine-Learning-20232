{
 "cells": [
  {
   "cell_type": "code",
   "execution_count": 2,
   "metadata": {},
   "outputs": [],
   "source": [
    "import pandas as pd\n",
    "import numpy as np\n",
    "train_set = pd.read_csv(\"training_set.csv\")\n",
    "#feature_matrix = pd.read_csv(\"feature_matrix.csv\")\n",
    "test_set = pd.read_csv(\"testing_set.csv\")"
   ]
  },
  {
   "cell_type": "code",
   "execution_count": null,
   "metadata": {},
   "outputs": [],
   "source": [
    "#create dictionary to map anime_id to its genre vector\n",
    "#feature_matrix_indexed = feature_matrix.set_index('anime_id')\n",
    "#anime_vector = feature_matrix_indexed['genre_vector'].to_dict()\n",
    "#for key in anime_vector.keys():\n",
    "    #anime_vector[key] = eval(anime_vector[key])\n",
    "#print(anime_vector)"
   ]
  },
  {
   "cell_type": "code",
   "execution_count": 10,
   "metadata": {},
   "outputs": [
    {
     "name": "stdout",
     "output_type": "stream",
     "text": [
      "(9724, 1)\n",
      "[[5.]\n",
      " [0.]\n",
      " [0.]\n",
      " ...\n",
      " [0.]\n",
      " [0.]\n",
      " [0.]]\n",
      "[[10.]\n",
      " [ 8.]\n",
      " [10.]\n",
      " ...\n",
      " [ 0.]\n",
      " [ 0.]\n",
      " [ 0.]]\n"
     ]
    }
   ],
   "source": [
    "source_table = {\"train\" : train_set,\"test\" : test_set}\n",
    "def getRatingVectorOfNthUser(n:int,source):\n",
    "    #get the rating vector of n-th user and the min and max anime_id\n",
    "    column_n = str(n) \n",
    "    rating = source_table[source][[column_n]].values\n",
    "    not_minus1_sum,count = 0,0\n",
    "    for i in rating:\n",
    "        if i[0] != -1 and i[0] != 0:\n",
    "            not_minus1_sum += i[0]\n",
    "            count += 1\n",
    "    if count != 0:\n",
    "        mean = round(not_minus1_sum/count,2)\n",
    "        for i in range(len(rating)):\n",
    "            if rating[i][0] == -1:\n",
    "                rating[i][0] = mean\n",
    "    else:\n",
    "        for i in range(len(rating)):\n",
    "            if rating[i][0] == -1:\n",
    "                rating[i][0] = 5\n",
    "        \n",
    "    #normalize the rating value\n",
    "    del not_minus1_sum,count\n",
    "    #return 70% of rating vector if source is test else 100%\n",
    "    \n",
    "    return rating\n",
    "\n",
    "print(getRatingVectorOfNthUser(1,\"train\").shape)\n",
    "print(getRatingVectorOfNthUser(37015,\"test\"))\n",
    "print(getRatingVectorOfNthUser(37020,\"test\"))"
   ]
  },
  {
   "cell_type": "code",
   "execution_count": 11,
   "metadata": {},
   "outputs": [
    {
     "name": "stdout",
     "output_type": "stream",
     "text": [
      "0.06973723120393556\n"
     ]
    }
   ],
   "source": [
    "#u1 and u2 must be array\n",
    "def similarity(u1,u2) -> float:\n",
    "    \n",
    "    \n",
    "    return ((u1.T).dot(u2))/((np.linalg.norm(u1))*np.linalg.norm(u2))\n",
    "u1 = getRatingVectorOfNthUser(1,\"train\")\n",
    "u2 = getRatingVectorOfNthUser(37020,\"test\")\n",
    "print(similarity(u1,u2)[0][0])"
   ]
  },
  {
   "cell_type": "code",
   "execution_count": null,
   "metadata": {},
   "outputs": [],
   "source": [
    "#calculate the similarity matrix of all users in our dataset\n",
    "#this is not necessary for the prediction but  can be useful to cluster the users into distinct groups\n",
    "similar_matrix = [[0 for i in range(1000)] for j in range(1000)]\n",
    "print(np.array(similar_matrix))\n",
    "for i in range(len(similar_matrix)):\n",
    "    for j in range(len(similar_matrix)):\n",
    "        if i == j:\n",
    "            similar_matrix[i][j] = 1\n",
    "        if similar_matrix[j][i] != 0:\n",
    "            similar_matrix[i][j] = similar_matrix[j][i]\n",
    "        else:\n",
    "            similar_matrix[i][j] = similarity(i+1,j+1)[0][0]\n",
    "print(np.array(similar_matrix))"
   ]
  },
  {
   "cell_type": "code",
   "execution_count": 12,
   "metadata": {},
   "outputs": [
    {
     "name": "stdout",
     "output_type": "stream",
     "text": [
      "ID of users in the testing set is:\n",
      "37015 37020 37032 37034 37040 37049 37052 37074 37097 37100 37107 37110 37117 37133 37149 37163 37196 37199 37219 37229 37233 37236 37237 37264 37267 37270 37326 37327 37345 37372 37383 37386 37399 37405 37411 37423 37425 37454 37459 37464 37490 37494 37502 37508 37520 37524 37549 37558 37576 37599 37609 37621 37641 37662 37674 37698 37702 37720 37725 37754 37781 37800 37803 37806 37808 37823 37873 37874 37903 37916 37922 37928 37965 37971 37979 37985 37998 38004 38009 38042 38045 38079 38083 38087 38100 38120 38137 38152 38162 38213 38233 38237 38253 38263 38275 38278 38290 38312 38318 38322 38324 38367 38381 38383 38388 38433 38436 38462 38467 38471 38487 38494 38515 38521 38525 38531 38537 38541 38544 38555 38557 38582 38586 38599 38622 38644 38732 38747 38753 38757 38769 38777 38790 38797 38803 38813 38820 38833 38852 38866 38873 38883 38885 38895 38898 38899 38925 38951 38954 38956 39001 39006 39028 39049 39072 39103 39135 39152 39155 39182 39194 39195 39230 39231 39246 39252 39263 39265 39304 39307 39323 39327 39332 39339 39350 39367 39369 39374 39386 39395 39424 39427 39433 39440 39442 39459 39460 39493 39525 39534 39559 39581 39585 39601 39609 39615 39620 39638 39641 39643 39646 39651 39655 39660 39692 39700 39722 39723 39734 39738 39748 39751 39826 39831 39833 39838 39839 39844 39849 39851 39853 39876 39904 39911 39912 39915 39926 39942 39943 39956 39962 39973 39992 40020 40056 40083 40103 40113 40115 40152 40153 40157 40163 40177 40180 40196 40201 40217 40222 40229 40231 40233 40242 40246 40250 40253 40265 40276 40278 40289 40290 40300 40311 40343 40345 40350 40354 40369 40374 40384 40392 40431 40471 40472 40475 40515 40532 40550 40552 40554 40563 40567 40573 40615 40626 40644 40646 40650 40684 40685 40686 40699 40702 40705 40710 40715 40726 40742 40746 40754 40764 40778 40784 40809 40867 40884 40892 40893 40908 40937 40940 40943 40944 40946 40966 40990 40991 41048 41055 41088 41106 41108 41148 41152 41156 41161 41181 41184 41195 41202 41222 41224 41240 41259 41268 41285 41307 41321 41329 41349 41351 41368 41369 41371 41382 41395 41396 41403 41411 41413 41416 41423 41457 41501 41512 41520 41526 41527 41530 41539 41584 41589 41596 41625 41667 41677 41689 41693 41701 41735 41742 41749 41754 41761 41770 41771 41782 41795 41834 41872 41894 41906 41927 41975 41976 41977 41978 41979 42012 42016 42023 42038 42048 42051 42059 42063 42068 42071 42075 42081 42087 42106 42131 42134 42157 42164 42165 42176 42217 42221 42244 42272 42277 42278 42297 42334 42337 42368 42394 42409 42426 42432 42436 42440 42446 42456 42459 42471 42494 42500 42526 42527 42528 42535 42540 42568 42574 42597 42664 42669 42697 42700 42751 42767 42771 42784 42802 42812 42821 42826 42832 42836 42858 42866 42877 42890 42892 42901 42907 42933 42952 42962 42963 43000 43005 43033 43051 43055 43078 43088 43095 43098 43113 43131 43139 43153 43199 43202 43236 43242 43252 43259 43267 43299 43316 43324 43327 43337 43366 43371 43380 43405 43411 43424 43459 43522 43530 43541 43544 43556 43576 43600 43608 43609 43611 43613 43620 43637 43642 43648 43682 43697 43712 43747 43751 43812 43822 43840 43854 43857 43882 43883 43913 43928 43942 43951 43952 44019 44020 44021 44030 44033 44047 44052 44062 44063 44068 44074 44077 44093 44115 44138 44143 44163 44181 44194 44195 44208 44273 44274 44293 44301 44308 44321 44331 44387 44396 44400 44406 44411 44414 44430 44451 44457 44477 44478 44490 44504 44507 44522 44547 44555 44584 44635 44637 44663 44672 44675 44688 44701 44707 44718 44728 44748 44751 44767 44772 44779 44790 44801 44850 44875 44876 44879 44890 44897 44903 44905 44921 44924 44938 44942 44943 44974 44977 45001 45025 45028 45061 45068 45070 45083 45091 45107 45128 45138 45142 45147 45153 45158 45168 45175 45185 45201 45202 45204 45219 45222 45227 45244 45253 45288 45299 45304 45312 45319 45330 45352 45365 45366 45368 45380 45393 45400 45413 45424 45428 45444 45454 45455 45489 45505 45519 45548 45563 45574 45595 45598 45601 45602 45619 45645 45649 45652 45667 45673 45695 45704 45714 45738 45748 45755 45774 45781 45785 45794 45815 45830 45834 45841 45873 45890 45903 45905 45906 45910 45929 45937 45939 45947 45951 45958 45975 45992 46000 46016 46022 46068 46070 46082 46088 46091 46098 46099 46119 46123 46127 46137 46149 46150 46151 46180 46182 46192 46217 46223 46262 46273 46277 46287 46332 46363 46526 46528 46530 46544 46573 46580 46584 46610 46620 46652 46658 46672 46673 46683 46688 46712 46748 46757 46768 46783 46790 46792 46820 46821 46831 46871 46897 46902 46921 46928 46936 46959 46961 46962 47005 47009 47027 47028 47048 47052 47076 47085 47091 47104 47113 47114 47117 47123 47124 47141 47158 47165 47175 47181 47191 47193 47195 47214 47216 47229 47240 47253 47263 47270 47272 47286 47288 47331 47336 47338 47346 47367 47390 47408 47415 47419 47431 47457 47480 47482 47485 47494 47502 47514 47535 47558 47570 47581 47604 47605 47611 47615 47622 47630 47645 47648 47680 47709 47714 47721 47747 47748 47752 47756 47810 47818 47821 47839 47891 47892 47899 47905 47913 47932 47935 47940 47941 47958 47972 47981 47983 47993 47998 48001 48013 48038 48046 48048 48049 48119 48125 48199 48204 48221 48230 48232 48241 48253 48275 48279 48284 48289 48297 48308 48313 48315 48320 48321 48334 48338 48360 48364 48394 48395 48400 48419 48430 48442 48455 48467 48468 48479 48492 48557 48570 48584 48592 48598 48611 48617 48653 48657 48677 48683 48689 48711 48715 48719 48727 48745 48747 48808 48809 48820 48826 48828 48845 48852 48872 48876 48907 48911 48919 48931 48936 48938 48950 48952 48960 48972 48994 48995 49000 49004 49112 49138 49155 49156 49166 49171 49177 49183 49206 49223 49232 49261 49280 49284 49287 49294 49320 49329 49332 49362 49365 49366 49385 49400 49402 49407 49412 49422 49454 49468 49470 49474 49501 49505 49509 49512 49589 49595 49596 49598 49613 49635 49650 49664 49669 49678 49699 49718 49723 49774 49790 49798 49819 49822 49833 49835 49843 49854 49868 49870 49875 49890 49894 49896 49901 49916 49917 49935 49945 49953 49954 49955 49960 49999\n"
     ]
    }
   ],
   "source": [
    "test_user_id = test_set.columns.values[1:]\n",
    "for i in range(len(test_user_id)):\n",
    "    test_user_id[i] = int(test_user_id[i])\n",
    "print(\"ID of users in the testing set is:\")\n",
    "print(*test_user_id)"
   ]
  },
  {
   "cell_type": "code",
   "execution_count": 18,
   "metadata": {},
   "outputs": [
    {
     "name": "stdout",
     "output_type": "stream",
     "text": [
      "[[0.]\n",
      " [0.]\n",
      " [0.]\n",
      " ...\n",
      " [0.]\n",
      " [0.]\n",
      " [0.]]\n",
      "[[0.]\n",
      " [0.]\n",
      " [8.]\n",
      " ...\n",
      " [0.]\n",
      " [0.]\n",
      " [0.]]\n",
      "[[5.]\n",
      " [0.]\n",
      " [0.]\n",
      " ...\n",
      " [0.]\n",
      " [0.]\n",
      " [0.]]\n"
     ]
    }
   ],
   "source": [
    "print(getRatingVectorOfNthUser(1,\"train\"))\n",
    "print(getRatingVectorOfNthUser(5,\"train\"))\n",
    "print(getRatingVectorOfNthUser(37015,\"test\"))"
   ]
  },
  {
   "cell_type": "code",
   "execution_count": 20,
   "metadata": {},
   "outputs": [
    {
     "name": "stdout",
     "output_type": "stream",
     "text": [
      "False\n",
      "False\n"
     ]
    },
    {
     "ename": "",
     "evalue": "",
     "output_type": "error",
     "traceback": [
      "\u001b[1;31mThe Kernel crashed while executing code in the current cell or a previous cell. \n",
      "\u001b[1;31mPlease review the code in the cell(s) to identify a possible cause of the failure. \n",
      "\u001b[1;31mClick <a href='https://aka.ms/vscodeJupyterKernelCrash'>here</a> for more info. \n",
      "\u001b[1;31mView Jupyter <a href='command:jupyter.viewOutput'>log</a> for further details."
     ]
    }
   ],
   "source": [
    "def all_zero(arr):\n",
    "    for i in arr:\n",
    "        if i != 0:\n",
    "            return False\n",
    "    return True\n",
    "print(all_zero(getRatingVectorOfNthUser(10,\"train\")))\n",
    "print(all_zero(getRatingVectorOfNthUser(5,\"train\")))\n",
    "print(all_zero(getRatingVectorOfNthUser(37020,\"test\")))\n"
   ]
  },
  {
   "cell_type": "code",
   "execution_count": null,
   "metadata": {},
   "outputs": [],
   "source": [
    "test_user = None\n",
    "user_vector = getRatingVectorOfNthUser(test_user)\n",
    "list_of_similarity = []\n",
    "max_sim = 0\n",
    "if all_zero(user_vector):\n",
    "    #recommend the most popular item if user has no rated items yet.\n",
    "    continue\n",
    "else:\n",
    "    for train_user in dataset:\n",
    "        train_vector = getRatingVectorOfNthUser(train_user)\n",
    "        if all_zero(train_vector):\n",
    "            continue\n",
    "        else:\n",
    "            if similarity(user_vector, train_vector)[0][0] > max_sim:\n",
    "                max_sim = similarity(user_vector, train_vector)[0][0]\n",
    "                list_of_similarity.append(train_user,max_sim)"
   ]
  },
  {
   "cell_type": "markdown",
   "metadata": {},
   "source": [
    "lấy ~1000 users mới để làm testing set : done\n",
    "hàm getRatingVectorOfNthUser(user:int) nên đổi thành  hàm getRatingVectorOfUser(user:int, source = \"test\" or source = \"train\") để phân biệt. : done "
   ]
  }
 ],
 "metadata": {
  "kernelspec": {
   "display_name": "base",
   "language": "python",
   "name": "python3"
  },
  "language_info": {
   "codemirror_mode": {
    "name": "ipython",
    "version": 3
   },
   "file_extension": ".py",
   "mimetype": "text/x-python",
   "name": "python",
   "nbconvert_exporter": "python",
   "pygments_lexer": "ipython3",
   "version": "3.11.5"
  }
 },
 "nbformat": 4,
 "nbformat_minor": 2
}
