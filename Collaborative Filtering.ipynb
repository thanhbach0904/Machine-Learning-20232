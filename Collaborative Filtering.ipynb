{
 "cells": [
  {
   "cell_type": "code",
   "execution_count": 1,
   "metadata": {},
   "outputs": [],
   "source": [
    "import pandas as pd\n",
    "import numpy as np\n",
    "utility_matrix = pd.read_csv(\"50%_utility_matrix.csv\")\n",
    "feature_matrix = pd.read_csv(\"feature_matrix.csv\")"
   ]
  },
  {
   "cell_type": "code",
   "execution_count": null,
   "metadata": {},
   "outputs": [],
   "source": [
    "def getRatingVectorOfNthUser(n:int):\n",
    "    #get the rating vector of n-th user and the min and max anime_id\n",
    "    column_n = str(n)\n",
    "    rating = utility_matrix[[column_n]].values\n",
    "\n",
    "    #normalize the rating value\n",
    "    return rating\n",
    "\n",
    "print(getRatingVectorOfNthUser(1))"
   ]
  },
  {
   "cell_type": "code",
   "execution_count": 17,
   "metadata": {},
   "outputs": [
    {
     "name": "stdout",
     "output_type": "stream",
     "text": [
      "0.216788524485329\n"
     ]
    }
   ],
   "source": [
    "def similarity(u1:int,u2:int) -> float:\n",
    "    vector_u1 = getRatingVectorOfNthUser(u1)\n",
    "    vector_u2 = getRatingVectorOfNthUser(u2)\n",
    "    \n",
    "    return ((vector_u1.T).dot(vector_u2))/((np.linalg.norm(vector_u1))*np.linalg.norm(vector_u2))\n",
    "\n",
    "print(similarity(1,10)[0][0])"
   ]
  },
  {
   "cell_type": "code",
   "execution_count": 22,
   "metadata": {},
   "outputs": [
    {
     "name": "stdout",
     "output_type": "stream",
     "text": [
      "[[0 0 0 ... 0 0 0]\n",
      " [0 0 0 ... 0 0 0]\n",
      " [0 0 0 ... 0 0 0]\n",
      " ...\n",
      " [0 0 0 ... 0 0 0]\n",
      " [0 0 0 ... 0 0 0]\n",
      " [0 0 0 ... 0 0 0]]\n",
      "[[ 1.         -0.04225847  0.01613407 ...  0.12020174 -0.06485681\n",
      "  -0.04684624]\n",
      " [-0.04225847  1.          0.13368172 ...  0.          0.\n",
      "  -0.10868281]\n",
      " [ 0.01613407  0.13368172  1.         ...  0.11821869  0.13266331\n",
      "  -0.13041145]\n",
      " ...\n",
      " [ 0.12020174  0.          0.11821869 ...  1.          0.15582341\n",
      "  -0.11097402]\n",
      " [-0.06485681  0.          0.13266331 ...  0.15582341  1.\n",
      "  -0.16842199]\n",
      " [-0.04684624 -0.10868281 -0.13041145 ... -0.11097402 -0.16842199\n",
      "   1.        ]]\n"
     ]
    }
   ],
   "source": [
    "similar_matrix = [[0 for i in range(3000)] for j in range(3000)]\n",
    "print(np.array(similar_matrix))\n",
    "for i in range(len(similar_matrix)):\n",
    "    for j in range(len(similar_matrix)):\n",
    "        if i == j:\n",
    "            similar_matrix[i][j] = 1\n",
    "        if similar_matrix[j][i] != 0:\n",
    "            similar_matrix[i][j] = similar_matrix[j][i]\n",
    "        else:\n",
    "            similar_matrix[i][j] = similarity(i+1,j+1)[0][0]\n",
    "print(np.array(similar_matrix))"
   ]
  },
  {
   "cell_type": "code",
   "execution_count": 2,
   "metadata": {},
   "outputs": [
    {
     "ename": "NameError",
     "evalue": "name 'similarity' is not defined",
     "output_type": "error",
     "traceback": [
      "\u001b[1;31m---------------------------------------------------------------------------\u001b[0m",
      "\u001b[1;31mNameError\u001b[0m                                 Traceback (most recent call last)",
      "Cell \u001b[1;32mIn[2], line 5\u001b[0m\n\u001b[0;32m      3\u001b[0m list_of_max \u001b[38;5;241m=\u001b[39m []\n\u001b[0;32m      4\u001b[0m \u001b[38;5;28;01mfor\u001b[39;00m i \u001b[38;5;129;01min\u001b[39;00m \u001b[38;5;28mrange\u001b[39m(\u001b[38;5;241m2\u001b[39m,\u001b[38;5;241m36758\u001b[39m):\n\u001b[1;32m----> 5\u001b[0m     \u001b[38;5;28;01mif\u001b[39;00m \u001b[43msimilarity\u001b[49m(user,i)[\u001b[38;5;241m0\u001b[39m][\u001b[38;5;241m0\u001b[39m] \u001b[38;5;241m>\u001b[39m max_similarity:\n\u001b[0;32m      6\u001b[0m         max_similarity \u001b[38;5;241m=\u001b[39m similarity(user,i)[\u001b[38;5;241m0\u001b[39m][\u001b[38;5;241m0\u001b[39m]\n\u001b[0;32m      7\u001b[0m         list_of_max\u001b[38;5;241m.\u001b[39mappend((i,max_similarity))\n",
      "\u001b[1;31mNameError\u001b[0m: name 'similarity' is not defined"
     ]
    }
   ],
   "source": [
    "user = 1\n",
    "max_similarity = 0\n",
    "list_of_max = []\n",
    "for i in range(2,36758):\n",
    "    if similarity(user,i)[0][0] > max_similarity:\n",
    "        max_similarity = similarity(user,i)[0][0]\n",
    "        list_of_max.append((i,max_similarity))\n",
    "print(list_of_max[:-4])"
   ]
  }
 ],
 "metadata": {
  "kernelspec": {
   "display_name": "base",
   "language": "python",
   "name": "python3"
  },
  "language_info": {
   "codemirror_mode": {
    "name": "ipython",
    "version": 3
   },
   "file_extension": ".py",
   "mimetype": "text/x-python",
   "name": "python",
   "nbconvert_exporter": "python",
   "pygments_lexer": "ipython3",
   "version": "3.11.5"
  }
 },
 "nbformat": 4,
 "nbformat_minor": 2
}
