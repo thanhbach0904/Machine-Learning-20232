{
 "cells": [
  {
   "cell_type": "code",
   "execution_count": 9,
   "metadata": {},
   "outputs": [],
   "source": [
    "import pandas as pd\n",
    "import numpy as np\n",
    "utility_matrix = pd.read_csv(\"50%_utility_matrix.csv\")\n",
    "feature_matrix = pd.read_csv(\"feature_matrix.csv\")\n",
    "test_set = pd.read_csv(\"testing_set.csv\")"
   ]
  },
  {
   "cell_type": "code",
   "execution_count": null,
   "metadata": {},
   "outputs": [],
   "source": [
    "#create dictionary to map anime_id to its genre vector\n",
    "feature_matrix_indexed = feature_matrix.set_index('anime_id')\n",
    "anime_vector = feature_matrix_indexed['genre_vector'].to_dict()\n",
    "for key in anime_vector.keys():\n",
    "    anime_vector[key] = eval(anime_vector[key])\n",
    "print(anime_vector)"
   ]
  },
  {
   "cell_type": "code",
   "execution_count": 12,
   "metadata": {},
   "outputs": [
    {
     "name": "stdout",
     "output_type": "stream",
     "text": [
      "[[0.]\n",
      " [0.]\n",
      " [0.]\n",
      " ...\n",
      " [0.]\n",
      " [0.]\n",
      " [0.]]\n"
     ]
    }
   ],
   "source": [
    "source_table = {\"train\" : utility_matrix,\"test\" : test_set}\n",
    "def getRatingVectorOfNthUser(n:int,source):\n",
    "    #get the rating vector of n-th user and the min and max anime_id\n",
    "    column_n = str(n)\n",
    "    rating = source_table[source][[column_n]].values\n",
    "    not_minus1_sum,count = 0,0\n",
    "    for i in rating:\n",
    "        if i[0] != -1 and i[0] != 0:\n",
    "            not_minus1_sum += i[0]\n",
    "            count += 1\n",
    "    if count != 0:\n",
    "        mean = round(not_minus1_sum/count,2)\n",
    "        for i in range(len(rating)):\n",
    "            if rating[i][0] == -1:\n",
    "                rating[i][0] = mean\n",
    "    else:\n",
    "        for i in range(len(rating)):\n",
    "            if rating[i][0] == -1:\n",
    "                rating[i][0] = 5\n",
    "        \n",
    "    #normalize the rating value\n",
    "    del not_minus1_sum,count,column_n\n",
    "    \n",
    "    \n",
    "    return rating\n",
    "\n",
    "print(getRatingVectorOfNthUser(1,\"train\"))"
   ]
  },
  {
   "cell_type": "code",
   "execution_count": 5,
   "metadata": {},
   "outputs": [
    {
     "name": "stdout",
     "output_type": "stream",
     "text": [
      "0.11224168986796883\n"
     ]
    }
   ],
   "source": [
    "#u1 and u2 must be array\n",
    "def similarity(u1,u2) -> float:\n",
    "    \n",
    "    \n",
    "    return ((u1.T).dot(u2))/((np.linalg.norm(u1))*np.linalg.norm(u2))\n",
    "u1 = getRatingVectorOfNthUser(1,\"train\")\n",
    "u2 = getRatingVectorOfNthUser(10,\"train\")\n",
    "print(similarity(u1,u2)[0][0])"
   ]
  },
  {
   "cell_type": "code",
   "execution_count": 6,
   "metadata": {},
   "outputs": [
    {
     "name": "stdout",
     "output_type": "stream",
     "text": [
      "[[0 0 0 ... 0 0 0]\n",
      " [0 0 0 ... 0 0 0]\n",
      " [0 0 0 ... 0 0 0]\n",
      " ...\n",
      " [0 0 0 ... 0 0 0]\n",
      " [0 0 0 ... 0 0 0]\n",
      " [0 0 0 ... 0 0 0]]\n",
      "[[ 1.         -0.04225847  0.01613407 ... -0.03050808  0.01968847\n",
      "   0.11480223]\n",
      " [-0.04225847  1.          0.13368172 ...  0.          0.\n",
      "   0.        ]\n",
      " [ 0.01613407  0.13368172  1.         ...  0.05790612  0.2762701\n",
      "   0.1151693 ]\n",
      " ...\n",
      " [-0.03050808  0.          0.05790612 ...  1.          0.09421744\n",
      "   0.06584984]\n",
      " [ 0.01968847  0.          0.2762701  ...  0.09421744  1.\n",
      "   0.13113166]\n",
      " [ 0.11480223  0.          0.1151693  ...  0.06584984  0.13113166\n",
      "   1.        ]]\n"
     ]
    }
   ],
   "source": [
    "#calculate the similarity matrix of all users in our dataset\n",
    "#this is not necessary for the prediction but  can be useful to cluster the users into distinct groups\n",
    "similar_matrix = [[0 for i in range(1000)] for j in range(1000)]\n",
    "print(np.array(similar_matrix))\n",
    "for i in range(len(similar_matrix)):\n",
    "    for j in range(len(similar_matrix)):\n",
    "        if i == j:\n",
    "            similar_matrix[i][j] = 1\n",
    "        if similar_matrix[j][i] != 0:\n",
    "            similar_matrix[i][j] = similar_matrix[j][i]\n",
    "        else:\n",
    "            similar_matrix[i][j] = similarity(i+1,j+1)[0][0]\n",
    "print(np.array(similar_matrix))"
   ]
  },
  {
   "cell_type": "code",
   "execution_count": 8,
   "metadata": {},
   "outputs": [
    {
     "name": "stdout",
     "output_type": "stream",
     "text": [
      "[(2, 0.046676002800933654), (3, 0.1480248916078675), (5, 0.16796235193930292), (7, 0.2676526129167347), (27, 0.2679275009052405), (41, 0.3719707226219281)]\n"
     ]
    }
   ],
   "source": [
    "user = 1\n",
    "max_similarity = 0\n",
    "list_of_max = []\n",
    "for i in range(2,36758):\n",
    "    if similarity(user,i)[0][0] > max_similarity:\n",
    "        max_similarity = similarity(user,i)[0][0]\n",
    "        list_of_max.append((i,max_similarity))\n",
    "print(list_of_max[:-4])"
   ]
  },
  {
   "cell_type": "code",
   "execution_count": 7,
   "metadata": {},
   "outputs": [
    {
     "name": "stdout",
     "output_type": "stream",
     "text": [
      "False\n"
     ]
    }
   ],
   "source": [
    "def all_zero(arr):\n",
    "    for i in arr:\n",
    "        if i != 0:\n",
    "            return False\n",
    "    return True\n",
    "print(all_zero(getRatingVectorOfNthUser(10,\"train\")))\n"
   ]
  },
  {
   "cell_type": "code",
   "execution_count": null,
   "metadata": {},
   "outputs": [],
   "source": [
    "test_user = None\n",
    "user_vector = getRatingVectorOfNthUser(test_user)\n",
    "list_of_similarity = []\n",
    "max_sim = 0\n",
    "if all_zero(user_vector):\n",
    "    #recommend the most popular item if user has no rated items yet.\n",
    "    continue\n",
    "else:\n",
    "    for train_user in dataset:\n",
    "        train_vector = getRatingVectorOfNthUser(train_user)\n",
    "        if all_zero(train_vector):\n",
    "            continue\n",
    "        else:\n",
    "            if similarity(user_vector, train_vector)[0][0] > max_sim:\n",
    "                max_sim = similarity(user_vector, train_vector)[0][0]\n",
    "                list_of_similarity.append(train_user,max_sim)"
   ]
  },
  {
   "cell_type": "markdown",
   "metadata": {},
   "source": [
    "lấy ~1000 users mới để làm testing set : done\n",
    "hàm getRatingVectorOfNthUser(user:int) nên đổi thành  hàm getRatingVectorOfUser(user:int, source = \"test\" or source = \"train\") để phân biệt. : done "
   ]
  }
 ],
 "metadata": {
  "kernelspec": {
   "display_name": "base",
   "language": "python",
   "name": "python3"
  },
  "language_info": {
   "codemirror_mode": {
    "name": "ipython",
    "version": 3
   },
   "file_extension": ".py",
   "mimetype": "text/x-python",
   "name": "python",
   "nbconvert_exporter": "python",
   "pygments_lexer": "ipython3",
   "version": "3.11.5"
  }
 },
 "nbformat": 4,
 "nbformat_minor": 2
}
