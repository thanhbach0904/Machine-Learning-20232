{
 "cells": [
  {
   "cell_type": "code",
   "execution_count": 2,
   "metadata": {},
   "outputs": [],
   "source": [
    "import pandas as pd\n",
    "import numpy as np\n",
    "utility_matrix = pd.read_csv(\"50%_utility_matrix.csv\")\n",
    "feature_matrix = pd.read_csv(\"feature_matrix.csv\")"
   ]
  },
  {
   "cell_type": "code",
   "execution_count": null,
   "metadata": {},
   "outputs": [],
   "source": [
    "#create dictionary to map anime_id to its genre vector\n",
    "feature_matrix_indexed = feature_matrix.set_index('anime_id')\n",
    "anime_vector = feature_matrix_indexed['genre_vector'].to_dict()\n",
    "for key in anime_vector.keys():\n",
    "    anime_vector[key] = eval(anime_vector[key])\n",
    "print(anime_vector)"
   ]
  },
  {
   "cell_type": "code",
   "execution_count": 58,
   "metadata": {},
   "outputs": [
    {
     "name": "stdout",
     "output_type": "stream",
     "text": [
      "(array([[0.],\n",
      "       [0.],\n",
      "       [0.],\n",
      "       ...,\n",
      "       [0.],\n",
      "       [0.],\n",
      "       [0.]]), 28.053691275167782)\n"
     ]
    }
   ],
   "source": [
    "def getRatingVectorOfNthUser(n:int):\n",
    "    #get the rating vector of n-th user \n",
    "    column_n = str(n)\n",
    "    rating = utility_matrix[[column_n]].values\n",
    "    animeId_withMinus1Rating = utility_matrix[utility_matrix[column_n] == -1][['anime_id']].values\n",
    "    minus1_vector = []\n",
    "    for i in range(len(animeId_withMinus1Rating)):\n",
    "        minus1_vector.append(anime_vector[animeId_withMinus1Rating[i][0]])\n",
    "    minus1_vector = np.array(minus1_vector)\n",
    "    n1,_ = minus1_vector.shape\n",
    "    #normalize the rating value\n",
    "    count_matrix = (1/n1)*sum(minus1_vector)\n",
    "    return rating,count_matrix.dot(minus1_vector[4])*10 #rating too small\n",
    "\n",
    "print(getRatingVectorOfNthUser(1))"
   ]
  },
  {
   "cell_type": "code",
   "execution_count": 4,
   "metadata": {},
   "outputs": [
    {
     "name": "stdout",
     "output_type": "stream",
     "text": [
      "0.216788524485329\n"
     ]
    }
   ],
   "source": [
    "def similarity(u1:int,u2:int) -> float:\n",
    "    vector_u1 = getRatingVectorOfNthUser(u1)\n",
    "    vector_u2 = getRatingVectorOfNthUser(u2)\n",
    "    \n",
    "    return ((vector_u1.T).dot(vector_u2))/((np.linalg.norm(vector_u1))*np.linalg.norm(vector_u2))\n",
    "\n",
    "print(similarity(1,10)[0][0])"
   ]
  },
  {
   "cell_type": "code",
   "execution_count": 6,
   "metadata": {},
   "outputs": [
    {
     "name": "stdout",
     "output_type": "stream",
     "text": [
      "[[0 0 0 ... 0 0 0]\n",
      " [0 0 0 ... 0 0 0]\n",
      " [0 0 0 ... 0 0 0]\n",
      " ...\n",
      " [0 0 0 ... 0 0 0]\n",
      " [0 0 0 ... 0 0 0]\n",
      " [0 0 0 ... 0 0 0]]\n",
      "[[ 1.         -0.04225847  0.01613407 ... -0.03050808  0.01968847\n",
      "   0.11480223]\n",
      " [-0.04225847  1.          0.13368172 ...  0.          0.\n",
      "   0.        ]\n",
      " [ 0.01613407  0.13368172  1.         ...  0.05790612  0.2762701\n",
      "   0.1151693 ]\n",
      " ...\n",
      " [-0.03050808  0.          0.05790612 ...  1.          0.09421744\n",
      "   0.06584984]\n",
      " [ 0.01968847  0.          0.2762701  ...  0.09421744  1.\n",
      "   0.13113166]\n",
      " [ 0.11480223  0.          0.1151693  ...  0.06584984  0.13113166\n",
      "   1.        ]]\n"
     ]
    }
   ],
   "source": [
    "#calculate the similarity matrix of all users in our dataset\n",
    "#this is not necessary for the prediction but  can be useful to cluster the users into distinct groups\n",
    "similar_matrix = [[0 for i in range(1000)] for j in range(1000)]\n",
    "print(np.array(similar_matrix))\n",
    "for i in range(len(similar_matrix)):\n",
    "    for j in range(len(similar_matrix)):\n",
    "        if i == j:\n",
    "            similar_matrix[i][j] = 1\n",
    "        if similar_matrix[j][i] != 0:\n",
    "            similar_matrix[i][j] = similar_matrix[j][i]\n",
    "        else:\n",
    "            similar_matrix[i][j] = similarity(i+1,j+1)[0][0]\n",
    "print(np.array(similar_matrix))"
   ]
  },
  {
   "cell_type": "code",
   "execution_count": 5,
   "metadata": {},
   "outputs": [
    {
     "name": "stdout",
     "output_type": "stream",
     "text": [
      "[(3, 0.016134070766122124), (8, 0.04511555413480946), (10, 0.216788524485329)]\n"
     ]
    }
   ],
   "source": [
    "user = 1\n",
    "max_similarity = 0\n",
    "list_of_max = []\n",
    "for i in range(2,36758):\n",
    "    if similarity(user,i)[0][0] > max_similarity:\n",
    "        max_similarity = similarity(user,i)[0][0]\n",
    "        list_of_max.append((i,max_similarity))\n",
    "print(list_of_max[:-4])"
   ]
  }
 ],
 "metadata": {
  "kernelspec": {
   "display_name": "base",
   "language": "python",
   "name": "python3"
  },
  "language_info": {
   "codemirror_mode": {
    "name": "ipython",
    "version": 3
   },
   "file_extension": ".py",
   "mimetype": "text/x-python",
   "name": "python",
   "nbconvert_exporter": "python",
   "pygments_lexer": "ipython3",
   "version": "3.11.5"
  }
 },
 "nbformat": 4,
 "nbformat_minor": 2
}
