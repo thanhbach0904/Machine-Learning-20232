
import pandas as pd

animes = pd.read_csv('anime.csv')
ratings = pd.read_csv('rating.csv')
animes.head()

animes.columns

ratings.head()
animes = animes[['anime_id','name','genre','type', 'episodes']]
animes.head()
using_table = pd.merge(ratings,animes,on = 'anime_id',how = 'left')
using_table.head(20)
#delete all the animes with unknown genre
float_genres_row = using_table[using_table['genre'].apply(lambda x: isinstance(x,float))]
using_table = using_table.drop(float_genres_row.index)
using_table.reset_index(drop=True,inplace=True)
all_tags = list(using_table['genre'].unique()) #all genres of data table
print(all_tags)
genres = []
for tag in all_tags:
    genres1 = tag.split(',')
    genres1 = [i.split() for i in genres1]
    for genre in genres1:
        if genre not in genres:
            genres.append(genre)


for i in range (len(genres)):
    if len(genres[i]) != 1:
        tag = ''
        j = 0
        for char in genres[i]:
            tag += char
            if j != len(genres[i])-1:
                tag += ' '
            j+=1
        genres[i] = [tag]
genres.sort()
print(genres)
print(len(genres))
#create feature vector
#create utility matrix
